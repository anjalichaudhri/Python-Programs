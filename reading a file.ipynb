{
 "cells": [
  {
   "cell_type": "code",
   "execution_count": null,
   "metadata": {},
   "outputs": [],
   "source": [
    "import pickle\n",
    "class Person:\n",
    "    '''the class preson describes a person'''\n",
    "    count=0\n",
    "    def __init__(slef, rollno, name, marks):\n",
    "        '''\n",
    "        objective: To initialize object of class person\n",
    "        Input parameter:\n",
    "          sel-object of type person\n",
    "          rollno-int\n",
    "          name-string\n",
    "          name-string\n",
    "          marks-int\n",
    "          return value:None\n",
    "          '''\n",
    "        self.rollno=rollno\n",
    "        slef.name=name\n",
    "        self.marks=marks\n",
    "        person.count+=1\n",
    "        fIn=open('','r')\n",
    "        fout=open('','wb')\n",
    "        line1=fIn.readlin()\n",
    "        sList=Line1.split(',')\n",
    "        rollno=int(sList[0])\n",
    "        name=sList"
   ]
  },
  {
   "cell_type": "code",
   "execution_count": 3,
   "metadata": {},
   "outputs": [
    {
     "name": "stdout",
     "output_type": "stream",
     "text": [
      "54.0  Divya\n"
     ]
    }
   ],
   "source": [
    "import pickle\n",
    "class Person:\n",
    "    '''the class person describes a person'''\n",
    "    count=0\n",
    "    def __init__(self,rollno,name,marks):\n",
    "        '''\n",
    "        Objective: To initialize object of class person\n",
    "        Input parameter:\n",
    "            self-object of type person\n",
    "            rollno-int\n",
    "            name-string\n",
    "            marks-int\n",
    "        return value:\n",
    "                    None\n",
    "        '''\n",
    "        self.rollno=rollno\n",
    "        self.name=name\n",
    "        self.marks=marks\n",
    "        Person.count+=1\n",
    "fIn=open('//home//ducs//Documents//marks.txt','r')\n",
    "fOut=open('record.txt','wb')\n",
    "\n",
    "line1 = fIn.readline()\n",
    "sList=line1.split(',')\n",
    "rollno=(sList[0])\n",
    "name=sList[1]\n",
    "marks=float(sList[2])\n",
    "p1=Person(rollno, name, marks)\n",
    "pickle.dump(p1,fOut)\n",
    "\n",
    "line1 = fIn.readline()\n",
    "sList=line1.split(',')\n",
    "rollno=(sList[0])\n",
    "name=sList[1]\n",
    "marks=float(sList[2])\n",
    "p1=Person(rollno, name, marks)\n",
    "pickle.dump(p1,fOut)\n",
    "fOut.close()\n",
    "#read\n",
    "f=open('record.txt','rb')\n",
    "value1=pickle.load(f)\n",
    "value2=pickle.load(f)\n",
    "print(value1.marks, value2.name)\n",
    "f.close()"
   ]
  },
  {
   "cell_type": "code",
   "execution_count": null,
   "metadata": {},
   "outputs": [],
   "source": []
  },
  {
   "cell_type": "code",
   "execution_count": null,
   "metadata": {},
   "outputs": [],
   "source": []
  }
 ],
 "metadata": {
  "kernelspec": {
   "display_name": "Python 3",
   "language": "python",
   "name": "python3"
  },
  "language_info": {
   "codemirror_mode": {
    "name": "ipython",
    "version": 3
   },
   "file_extension": ".py",
   "mimetype": "text/x-python",
   "name": "python",
   "nbconvert_exporter": "python",
   "pygments_lexer": "ipython3",
   "version": "3.7.3"
  }
 },
 "nbformat": 4,
 "nbformat_minor": 2
}
